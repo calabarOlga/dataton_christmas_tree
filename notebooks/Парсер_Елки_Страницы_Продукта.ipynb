{
 "cells": [
  {
   "cell_type": "code",
   "execution_count": 1,
   "id": "fa5e4108",
   "metadata": {},
   "outputs": [],
   "source": [
    "import requests\n",
    "import json\n",
    "import pandas as pd\n",
    "import time\n",
    "import numpy as np\n",
    "from tqdm import tqdm\n",
    "from selenium import webdriver\n",
    "from selenium.webdriver.chrome.service import Service\n",
    "from selenium.webdriver.common.by import By\n",
    "from selenium.webdriver.common.keys import Keys\n",
    "from selenium.webdriver.support import expected_conditions as EC\n",
    "from selenium.webdriver.support.ui import WebDriverWait"
   ]
  },
  {
   "cell_type": "code",
   "execution_count": 2,
   "id": "c72cf542",
   "metadata": {},
   "outputs": [],
   "source": [
    "def save_excel(data, filename):\n",
    "    \"\"\"сохранение результата в excel файл\"\"\"\n",
    "    df = pd.DataFrame(data)\n",
    "    writer = pd.ExcelWriter(f'{filename}.xlsx')\n",
    "    df.to_excel(writer, 'data', index=False)\n",
    "    writer.save()\n",
    "    print(f'Все сохранено в {filename}.xlsx')"
   ]
  },
  {
   "cell_type": "code",
   "execution_count": 3,
   "id": "9fa14fa1",
   "metadata": {},
   "outputs": [],
   "source": [
    "def get_data_from_good(url):\n",
    "    try:\n",
    "        browser = webdriver.Chrome(service=Service(\"build/chromedriver.exe\"))\n",
    "        browser.maximize_window()\n",
    "        browser.get(url)\n",
    "        time.sleep(3)\n",
    "        good_how_much = browser.find_element(By.CLASS_NAME, 'product-order-quantity').text\n",
    "        good_param = browser.find_elements(By.CLASS_NAME, 'product-params') \n",
    "        good_param_list = []\n",
    "        for good in good_param:\n",
    "            try:\n",
    "                good_param_list.append(good.text)\n",
    "            except:\n",
    "                continue\n",
    "                \n",
    "    except:\n",
    "        browser.quit()\n",
    "        \n",
    "\n",
    "    browser.quit()\n",
    "    return good_how_much, good_param_list\n"
   ]
  },
  {
   "cell_type": "code",
   "execution_count": 6,
   "id": "a7c7f037",
   "metadata": {},
   "outputs": [
    {
     "name": "stderr",
     "output_type": "stream",
     "text": [
      "100%|██████████| 2/2 [00:23<00:00, 11.74s/it]\n"
     ]
    }
   ],
   "source": [
    "df=pd.read_excel('Елки_from_0_to_10000000.xlsx')\n",
    "low_ind=7001\n",
    "high_ind=10001\n",
    "list1,list2 = [],[]\n",
    "for i in tqdm(range(low_ind,high_ind)):\n",
    "    try:\n",
    "        a,b = get_data_from_good(df['Ссылка'].iloc[i])\n",
    "        list1.append(a)\n",
    "        list2.append(b)\n",
    "    except:\n",
    "        list1.append('Error')\n",
    "        list2.append('Error')"
   ]
  },
  {
   "cell_type": "code",
   "execution_count": 7,
   "id": "6d456fac",
   "metadata": {},
   "outputs": [
    {
     "name": "stdout",
     "output_type": "stream",
     "text": [
      "Все сохранено в ind_from_7001_to_7002.xlsx\n"
     ]
    }
   ],
   "source": [
    "intermediate_dictionary = {'':range(low_ind,high_ind), 'Количество раз купили':list1, 'Описание':list2}\n",
    "save_excel(intermediate_dictionary, f'ind_from_{low_ind}_to_{high_ind-1}')"
   ]
  },
  {
   "cell_type": "code",
   "execution_count": null,
   "id": "15bf2b1a",
   "metadata": {},
   "outputs": [],
   "source": []
  }
 ],
 "metadata": {
  "kernelspec": {
   "display_name": "Python 3 (ipykernel)",
   "language": "python",
   "name": "python3"
  },
  "language_info": {
   "codemirror_mode": {
    "name": "ipython",
    "version": 3
   },
   "file_extension": ".py",
   "mimetype": "text/x-python",
   "name": "python",
   "nbconvert_exporter": "python",
   "pygments_lexer": "ipython3",
   "version": "3.9.13"
  }
 },
 "nbformat": 4,
 "nbformat_minor": 5
}
